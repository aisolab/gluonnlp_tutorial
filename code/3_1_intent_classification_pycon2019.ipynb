{
  "nbformat": 4,
  "nbformat_minor": 0,
  "metadata": {
    "kernelspec": {
      "name": "python3",
      "display_name": "Python 3"
    },
    "language_info": {
      "codemirror_mode": {
        "name": "ipython",
        "version": 3
      },
      "file_extension": ".py",
      "mimetype": "text/x-python",
      "name": "python",
      "nbconvert_exporter": "python",
      "pygments_lexer": "ipython3",
      "version": "3.5.2"
    },
    "colab": {
      "name": "intent_classification.ipynb",
      "version": "0.3.2",
      "provenance": [],
      "collapsed_sections": []
    },
    "accelerator": "GPU"
  },
  "cells": [
    {
      "cell_type": "code",
      "metadata": {
        "id": "Z94sO9eQBEFe",
        "colab_type": "code",
        "colab": {
          "base_uri": "https://localhost:8080/",
          "height": 320
        },
        "outputId": "40ebffb7-652a-408c-9039-6a796a760182"
      },
      "source": [
        "!pip install mxnet-cu100\n",
        "!pip install gluonnlp pandas tqdm"
      ],
      "execution_count": 3,
      "outputs": [
        {
          "output_type": "stream",
          "text": [
            "Collecting gluonnlp\n",
            "\u001b[?25l  Downloading https://files.pythonhosted.org/packages/c1/c8/e180cd98ab190e7ac3c6a767a909918e719be33f967bca13d0d4cd7c5468/gluonnlp-0.8.0.tar.gz (235kB)\n",
            "\u001b[K     |████████████████████████████████| 245kB 1.4MB/s \n",
            "\u001b[?25hRequirement already satisfied: pandas in /usr/local/lib/python3.6/dist-packages (0.24.2)\n",
            "Requirement already satisfied: tqdm in /usr/local/lib/python3.6/dist-packages (4.28.1)\n",
            "Requirement already satisfied: numpy in /usr/local/lib/python3.6/dist-packages (from gluonnlp) (1.16.4)\n",
            "Requirement already satisfied: pytz>=2011k in /usr/local/lib/python3.6/dist-packages (from pandas) (2018.9)\n",
            "Requirement already satisfied: python-dateutil>=2.5.0 in /usr/local/lib/python3.6/dist-packages (from pandas) (2.5.3)\n",
            "Requirement already satisfied: six>=1.5 in /usr/local/lib/python3.6/dist-packages (from python-dateutil>=2.5.0->pandas) (1.12.0)\n",
            "Building wheels for collected packages: gluonnlp\n",
            "  Building wheel for gluonnlp (setup.py) ... \u001b[?25l\u001b[?25hdone\n",
            "  Created wheel for gluonnlp: filename=gluonnlp-0.8.0-cp36-none-any.whl size=292704 sha256=4fed194e608655d54c907bdce8c379817cb6c1e42c09936efccaee6111328e97\n",
            "  Stored in directory: /root/.cache/pip/wheels/28/ff/33/d73801f242fb93c02f2076f81232fcb9a29305480cc42c5454\n",
            "Successfully built gluonnlp\n",
            "Installing collected packages: gluonnlp\n",
            "Successfully installed gluonnlp-0.8.0\n"
          ],
          "name": "stdout"
        }
      ]
    },
    {
      "cell_type": "markdown",
      "metadata": {
        "id": "EGi63M1KBBYd",
        "colab_type": "text"
      },
      "source": [
        "## Intent Classification"
      ]
    },
    {
      "cell_type": "code",
      "metadata": {
        "id": "5FkNc8PsBBYk",
        "colab_type": "code",
        "colab": {}
      },
      "source": [
        "import pandas as pd\n",
        "import numpy as np\n",
        "from mxnet.gluon import nn, rnn\n",
        "from mxnet import gluon, autograd\n",
        "import gluonnlp as nlp\n",
        "from mxnet import nd \n",
        "import mxnet as mx\n",
        "import time\n",
        "import itertools\n",
        "from tqdm import tqdm\n",
        "import multiprocessing as mp"
      ],
      "execution_count": 0,
      "outputs": []
    },
    {
      "cell_type": "code",
      "metadata": {
        "id": "r6fFvaPPBBYx",
        "colab_type": "code",
        "colab": {}
      },
      "source": [
        "train_raw = pd.read_csv(\"https://www.dropbox.com/s/83n0uoy20rd2vq4/trainset.txt?dl=1\",names=['intent', 'entity', 'sentence'], sep='\\t')\n",
        "#validation_raw = pd.read_csv(\"https://www.dropbox.com/s/kbl7kw54jdo2550/test_hidden.txt?dl=1\",names=['intent', 'entity', 'sentence'], sep='\\t')\n",
        "validation_raw = pd.read_csv(\"https://www.dropbox.com/s/enxp9yt9cstcal2/validation.txt?dl=1\",names=['intent', 'entity', 'sentence'], sep='\\t')"
      ],
      "execution_count": 0,
      "outputs": []
    },
    {
      "cell_type": "code",
      "metadata": {
        "id": "xlIx66ZgBBZB",
        "colab_type": "code",
        "colab": {
          "base_uri": "https://localhost:8080/",
          "height": 990
        },
        "outputId": "f79eb6ae-1907-4b21-a87a-c6dbcf0325e8"
      },
      "source": [
        "train_raw.head(30)"
      ],
      "execution_count": 6,
      "outputs": [
        {
          "output_type": "execute_result",
          "data": {
            "text/html": [
              "<div>\n",
              "<style scoped>\n",
              "    .dataframe tbody tr th:only-of-type {\n",
              "        vertical-align: middle;\n",
              "    }\n",
              "\n",
              "    .dataframe tbody tr th {\n",
              "        vertical-align: top;\n",
              "    }\n",
              "\n",
              "    .dataframe thead th {\n",
              "        text-align: right;\n",
              "    }\n",
              "</style>\n",
              "<table border=\"1\" class=\"dataframe\">\n",
              "  <thead>\n",
              "    <tr style=\"text-align: right;\">\n",
              "      <th></th>\n",
              "      <th>intent</th>\n",
              "      <th>entity</th>\n",
              "      <th>sentence</th>\n",
              "    </tr>\n",
              "  </thead>\n",
              "  <tbody>\n",
              "    <tr>\n",
              "      <th>0</th>\n",
              "      <td>area</td>\n",
              "      <td>EECCCCCCCCCCCCCCCCCCC</td>\n",
              "      <td>자강의 면적은 얼마 정도되는지 알려줄래</td>\n",
              "    </tr>\n",
              "    <tr>\n",
              "      <th>1</th>\n",
              "      <td>birth_date</td>\n",
              "      <td>CCCCCCCCCCCCEEECCCCCCCCCCCC</td>\n",
              "      <td>WIKI PEDIA로 변재일 생년월일을 알고 싶어</td>\n",
              "    </tr>\n",
              "    <tr>\n",
              "      <th>2</th>\n",
              "      <td>age</td>\n",
              "      <td>EEEEEEEEEEECCCCCCCCCCCCCCCCC</td>\n",
              "      <td>남쪽 물고기자리 알파 나이가 위키백과사전으로 얼마야</td>\n",
              "    </tr>\n",
              "    <tr>\n",
              "      <th>3</th>\n",
              "      <td>length</td>\n",
              "      <td>EEEECCCCCCCCCCCCCCCCCC</td>\n",
              "      <td>삼양터널의 총 길이 위키백과사전에서 뭐야</td>\n",
              "    </tr>\n",
              "    <tr>\n",
              "      <th>4</th>\n",
              "      <td>birth_place</td>\n",
              "      <td>EEEEEECCCCCCCCCCC</td>\n",
              "      <td>코니 윌리스의 태어난 곳은 뭐지</td>\n",
              "    </tr>\n",
              "    <tr>\n",
              "      <th>5</th>\n",
              "      <td>weight</td>\n",
              "      <td>CCCCCCCCCCCCEEEECCCCCCCCCCCCC</td>\n",
              "      <td>WIKI백과사전 검색 AA12의 무게가 얼만지 찾아봐</td>\n",
              "    </tr>\n",
              "    <tr>\n",
              "      <th>6</th>\n",
              "      <td>definition</td>\n",
              "      <td>CCCCCCCCCCCCCEEECCCCCCCC</td>\n",
              "      <td>WIKIPEDIA백과로 라이프 찾아서 말해줘</td>\n",
              "    </tr>\n",
              "    <tr>\n",
              "      <th>7</th>\n",
              "      <td>height</td>\n",
              "      <td>EEEEEEEECCCCCCCCCCCCCCCCCCC</td>\n",
              "      <td>송파 헬리오시티 구조물 높이 위키 피디아에서 뭐야</td>\n",
              "    </tr>\n",
              "    <tr>\n",
              "      <th>8</th>\n",
              "      <td>birth_date</td>\n",
              "      <td>CCCEEEEEECCCCCCCCCCCCCCC</td>\n",
              "      <td>검색 HLKVAM 언제 출생했는지를 검색해라</td>\n",
              "    </tr>\n",
              "    <tr>\n",
              "      <th>9</th>\n",
              "      <td>height</td>\n",
              "      <td>CCCCCCCCEEEEEECCCCCCCC</td>\n",
              "      <td>위키 피디아에 푸조 508 전고가 몇이야</td>\n",
              "    </tr>\n",
              "    <tr>\n",
              "      <th>10</th>\n",
              "      <td>length</td>\n",
              "      <td>CCCEEEEECCCCCCC</td>\n",
              "      <td>검색 호몬혼 섬 길이를 찾아</td>\n",
              "    </tr>\n",
              "    <tr>\n",
              "      <th>11</th>\n",
              "      <td>definition</td>\n",
              "      <td>EEEEECCCCCCCCCCCCC</td>\n",
              "      <td>영산중학교 좀 위키피디아사전 검색</td>\n",
              "    </tr>\n",
              "    <tr>\n",
              "      <th>12</th>\n",
              "      <td>age</td>\n",
              "      <td>CCCCCCEEEEEECCCCCCC</td>\n",
              "      <td>위키백과로 침보라조 산 나이 어떤지</td>\n",
              "    </tr>\n",
              "    <tr>\n",
              "      <th>13</th>\n",
              "      <td>birth_date</td>\n",
              "      <td>EEEEEEECCCCCCCC</td>\n",
              "      <td>마무드 아스라의 출생 찾아줘</td>\n",
              "    </tr>\n",
              "    <tr>\n",
              "      <th>14</th>\n",
              "      <td>birth_place</td>\n",
              "      <td>CCCCCCEEEEEEECCCCCCCCC</td>\n",
              "      <td>위키 백과 조제 카리오카의 출생지를 찾아</td>\n",
              "    </tr>\n",
              "    <tr>\n",
              "      <th>15</th>\n",
              "      <td>birth_date</td>\n",
              "      <td>CCCEEEEEECCCCCCCCC</td>\n",
              "      <td>검색 제이 개츠비 생년월일은 뭐지</td>\n",
              "    </tr>\n",
              "    <tr>\n",
              "      <th>16</th>\n",
              "      <td>length</td>\n",
              "      <td>EEEECCCCCCCCCCCCCCCCC</td>\n",
              "      <td>증약터널의 길이가 얼마쯤인지 혹시 알아</td>\n",
              "    </tr>\n",
              "    <tr>\n",
              "      <th>17</th>\n",
              "      <td>belong_to</td>\n",
              "      <td>EEEEEEEEEEEEEEEECCCCCCCCCCCCCC</td>\n",
              "      <td>리히텐슈타인의 한스 아담 2세 소속사는 어딘지 검색해봐</td>\n",
              "    </tr>\n",
              "    <tr>\n",
              "      <th>18</th>\n",
              "      <td>height</td>\n",
              "      <td>CCCCCCCCCCCCEEEEECCCCCCCCC</td>\n",
              "      <td>WIKI사전백과 검색 벨록스여우의 높이는 얼만지</td>\n",
              "    </tr>\n",
              "    <tr>\n",
              "      <th>19</th>\n",
              "      <td>age</td>\n",
              "      <td>EEEEEECCCCCCCCC</td>\n",
              "      <td>파블롭스키구의 나이를 찾아줘</td>\n",
              "    </tr>\n",
              "    <tr>\n",
              "      <th>20</th>\n",
              "      <td>width</td>\n",
              "      <td>EEEEEEECCCCCCCCCCCCCC</td>\n",
              "      <td>사카피솔라 섬의 너비는 WIKI에서 뭐</td>\n",
              "    </tr>\n",
              "    <tr>\n",
              "      <th>21</th>\n",
              "      <td>birth_place</td>\n",
              "      <td>EECCCCCCCCCCCCCCCCC</td>\n",
              "      <td>나미는 태어난 곳이 WIKI로 뭔지</td>\n",
              "    </tr>\n",
              "    <tr>\n",
              "      <th>22</th>\n",
              "      <td>weight</td>\n",
              "      <td>CCCCCEEEEECCCCCCC</td>\n",
              "      <td>위키에서 피니스테르의 무게 찾기</td>\n",
              "    </tr>\n",
              "    <tr>\n",
              "      <th>23</th>\n",
              "      <td>birth_place</td>\n",
              "      <td>CCCEEEEEEECCCCCCCCCCC</td>\n",
              "      <td>검색 카를 야스퍼스 출신지역이 어디라고</td>\n",
              "    </tr>\n",
              "    <tr>\n",
              "      <th>24</th>\n",
              "      <td>width</td>\n",
              "      <td>EEEEEEEEEEECCCCCCC</td>\n",
              "      <td>63식 병력수송장갑차의 폭 얼만지</td>\n",
              "    </tr>\n",
              "    <tr>\n",
              "      <th>25</th>\n",
              "      <td>birth_place</td>\n",
              "      <td>CCCCCEEECCCCCCCCCCCC</td>\n",
              "      <td>검색으로 강마에가 출생 장소를 찾아줘</td>\n",
              "    </tr>\n",
              "    <tr>\n",
              "      <th>26</th>\n",
              "      <td>birth_date</td>\n",
              "      <td>EEEEEECCCCCCCCCCCCCC</td>\n",
              "      <td>쿠죠 히카리의 언제 출생했는지 탐색해</td>\n",
              "    </tr>\n",
              "    <tr>\n",
              "      <th>27</th>\n",
              "      <td>length</td>\n",
              "      <td>EEECCCCCCCCCCC</td>\n",
              "      <td>사하라의 길이가 얼마쯤이지</td>\n",
              "    </tr>\n",
              "    <tr>\n",
              "      <th>28</th>\n",
              "      <td>area</td>\n",
              "      <td>EEEECCCCCCCCC</td>\n",
              "      <td>송대산성의 면적은 얼만지</td>\n",
              "    </tr>\n",
              "    <tr>\n",
              "      <th>29</th>\n",
              "      <td>area</td>\n",
              "      <td>CCCCCCCCCCEEEEEECCCCCCC</td>\n",
              "      <td>WIKI 피디아에 신자경선생묘의 넓이 뭔지</td>\n",
              "    </tr>\n",
              "  </tbody>\n",
              "</table>\n",
              "</div>"
            ],
            "text/plain": [
              "         intent                          entity                        sentence\n",
              "0          area           EECCCCCCCCCCCCCCCCCCC           자강의 면적은 얼마 정도되는지 알려줄래\n",
              "1    birth_date     CCCCCCCCCCCCEEECCCCCCCCCCCC     WIKI PEDIA로 변재일 생년월일을 알고 싶어\n",
              "2           age    EEEEEEEEEEECCCCCCCCCCCCCCCCC    남쪽 물고기자리 알파 나이가 위키백과사전으로 얼마야\n",
              "3        length          EEEECCCCCCCCCCCCCCCCCC          삼양터널의 총 길이 위키백과사전에서 뭐야\n",
              "4   birth_place               EEEEEECCCCCCCCCCC               코니 윌리스의 태어난 곳은 뭐지\n",
              "5        weight   CCCCCCCCCCCCEEEECCCCCCCCCCCCC   WIKI백과사전 검색 AA12의 무게가 얼만지 찾아봐\n",
              "6    definition        CCCCCCCCCCCCCEEECCCCCCCC        WIKIPEDIA백과로 라이프 찾아서 말해줘\n",
              "7        height     EEEEEEEECCCCCCCCCCCCCCCCCCC     송파 헬리오시티 구조물 높이 위키 피디아에서 뭐야\n",
              "8    birth_date        CCCEEEEEECCCCCCCCCCCCCCC        검색 HLKVAM 언제 출생했는지를 검색해라\n",
              "9        height          CCCCCCCCEEEEEECCCCCCCC          위키 피디아에 푸조 508 전고가 몇이야\n",
              "10       length                 CCCEEEEECCCCCCC                 검색 호몬혼 섬 길이를 찾아\n",
              "11   definition              EEEEECCCCCCCCCCCCC              영산중학교 좀 위키피디아사전 검색\n",
              "12          age             CCCCCCEEEEEECCCCCCC             위키백과로 침보라조 산 나이 어떤지\n",
              "13   birth_date                 EEEEEEECCCCCCCC                 마무드 아스라의 출생 찾아줘\n",
              "14  birth_place          CCCCCCEEEEEEECCCCCCCCC          위키 백과 조제 카리오카의 출생지를 찾아\n",
              "15   birth_date              CCCEEEEEECCCCCCCCC              검색 제이 개츠비 생년월일은 뭐지\n",
              "16       length           EEEECCCCCCCCCCCCCCCCC           증약터널의 길이가 얼마쯤인지 혹시 알아\n",
              "17    belong_to  EEEEEEEEEEEEEEEECCCCCCCCCCCCCC  리히텐슈타인의 한스 아담 2세 소속사는 어딘지 검색해봐\n",
              "18       height      CCCCCCCCCCCCEEEEECCCCCCCCC      WIKI사전백과 검색 벨록스여우의 높이는 얼만지\n",
              "19          age                 EEEEEECCCCCCCCC                 파블롭스키구의 나이를 찾아줘\n",
              "20        width           EEEEEEECCCCCCCCCCCCCC           사카피솔라 섬의 너비는 WIKI에서 뭐\n",
              "21  birth_place             EECCCCCCCCCCCCCCCCC             나미는 태어난 곳이 WIKI로 뭔지\n",
              "22       weight               CCCCCEEEEECCCCCCC               위키에서 피니스테르의 무게 찾기\n",
              "23  birth_place           CCCEEEEEEECCCCCCCCCCC           검색 카를 야스퍼스 출신지역이 어디라고\n",
              "24        width              EEEEEEEEEEECCCCCCC              63식 병력수송장갑차의 폭 얼만지\n",
              "25  birth_place            CCCCCEEECCCCCCCCCCCC            검색으로 강마에가 출생 장소를 찾아줘\n",
              "26   birth_date            EEEEEECCCCCCCCCCCCCC            쿠죠 히카리의 언제 출생했는지 탐색해\n",
              "27       length                  EEECCCCCCCCCCC                  사하라의 길이가 얼마쯤이지\n",
              "28         area                   EEEECCCCCCCCC                   송대산성의 면적은 얼만지\n",
              "29         area         CCCCCCCCCCEEEEEECCCCCCC         WIKI 피디아에 신자경선생묘의 넓이 뭔지"
            ]
          },
          "metadata": {
            "tags": []
          },
          "execution_count": 6
        }
      ]
    },
    {
      "cell_type": "markdown",
      "metadata": {
        "id": "Rd8SGLptBBZO",
        "colab_type": "text"
      },
      "source": [
        "### Intent Classification"
      ]
    },
    {
      "cell_type": "markdown",
      "metadata": {
        "id": "qrQjYp7iBBZR",
        "colab_type": "text"
      },
      "source": [
        "#### 데이터 전처리"
      ]
    },
    {
      "cell_type": "code",
      "metadata": {
        "id": "KuuZ73g6BBZT",
        "colab_type": "code",
        "colab": {}
      },
      "source": [
        "train_dataset = [(l, d) for d,l in zip(train_raw['intent'], train_raw['sentence'])]\n",
        "valid_dataset = [(l, d) for d,l in zip(validation_raw['intent'], validation_raw['sentence'])]"
      ],
      "execution_count": 0,
      "outputs": []
    },
    {
      "cell_type": "code",
      "metadata": {
        "id": "1nAgM9q_BBZc",
        "colab_type": "code",
        "colab": {}
      },
      "source": [
        "seq_len = 32\n",
        "\n",
        "length_clip = nlp.data.PadSequence(seq_len, pad_val=\"<pad>\")\n",
        "\n",
        "def preprocess(data):\n",
        "    sent, entity = data\n",
        "    char_sent = list(str(sent))\n",
        "    char_entity = str(entity)\n",
        "    return(length_clip(char_sent), len(sent),char_entity)\n",
        "\n",
        "def preprocess_dataset(dataset):\n",
        "    start = time.time()\n",
        "    with mp.Pool() as pool:\n",
        "        dataset = gluon.data.SimpleDataset(pool.map(preprocess, dataset))\n",
        "    end = time.time()\n",
        "    print('Done! Tokenizing Time={:.2f}s, #Sentences={}'\n",
        "          .format(end - start, len(dataset)))\n",
        "    return dataset\n"
      ],
      "execution_count": 0,
      "outputs": []
    },
    {
      "cell_type": "code",
      "metadata": {
        "id": "yZZpGLE5BBZj",
        "colab_type": "code",
        "colab": {
          "base_uri": "https://localhost:8080/",
          "height": 55
        },
        "outputId": "7ed38251-0b55-4600-cabe-6b71bf087069"
      },
      "source": [
        "train_preprocessed  = preprocess_dataset(train_dataset)\n",
        "valid_preprocessed  = preprocess_dataset(valid_dataset)"
      ],
      "execution_count": 9,
      "outputs": [
        {
          "output_type": "stream",
          "text": [
            "Done! Tokenizing Time=0.13s, #Sentences=9000\n",
            "Done! Tokenizing Time=0.38s, #Sentences=1000\n"
          ],
          "name": "stdout"
        }
      ]
    },
    {
      "cell_type": "code",
      "metadata": {
        "id": "8aYVByIKBBZt",
        "colab_type": "code",
        "colab": {}
      },
      "source": [
        "counter_sent   = nlp.data.count_tokens(itertools.chain.from_iterable([c for c, _, _ in train_preprocessed]))\n",
        "counter_intent = nlp.data.count_tokens([c for _,_, c in train_preprocessed])"
      ],
      "execution_count": 0,
      "outputs": []
    },
    {
      "cell_type": "code",
      "metadata": {
        "id": "tNHQEllPBBZ5",
        "colab_type": "code",
        "colab": {
          "base_uri": "https://localhost:8080/",
          "height": 207
        },
        "outputId": "6f9f6ed9-09f0-44af-8cdb-8ac2c742c848"
      },
      "source": [
        "counter_intent"
      ],
      "execution_count": 11,
      "outputs": [
        {
          "output_type": "execute_result",
          "data": {
            "text/plain": [
              "Counter({'age': 900,\n",
              "         'area': 900,\n",
              "         'belong_to': 900,\n",
              "         'birth_date': 900,\n",
              "         'birth_place': 900,\n",
              "         'definition': 900,\n",
              "         'height': 900,\n",
              "         'length': 900,\n",
              "         'weight': 900,\n",
              "         'width': 900})"
            ]
          },
          "metadata": {
            "tags": []
          },
          "execution_count": 11
        }
      ]
    },
    {
      "cell_type": "code",
      "metadata": {
        "id": "VE3NxndmBBaF",
        "colab_type": "code",
        "colab": {}
      },
      "source": [
        "vocab_sent = nlp.Vocab(counter_sent, bos_token=None, eos_token=None, min_freq=15)\n",
        "vocab_intent = nlp.Vocab(counter_intent, bos_token=None, eos_token=None, unknown_token=None, padding_token=None)"
      ],
      "execution_count": 0,
      "outputs": []
    },
    {
      "cell_type": "code",
      "metadata": {
        "id": "OaIDZ4b_BBaP",
        "colab_type": "code",
        "colab": {
          "base_uri": "https://localhost:8080/",
          "height": 226
        },
        "outputId": "9fec1ab5-bcde-4b68-9fcc-4e8ba9b85c14"
      },
      "source": [
        "vocab_sent.idx_to_token[:10], vocab_intent.idx_to_token[:10], "
      ],
      "execution_count": 13,
      "outputs": [
        {
          "output_type": "execute_result",
          "data": {
            "text/plain": [
              "(['<unk>', '<pad>', ' ', 'I', '이', '색', '검', '의', '지', '아'],\n",
              " ['age',\n",
              "  'area',\n",
              "  'belong_to',\n",
              "  'birth_date',\n",
              "  'birth_place',\n",
              "  'definition',\n",
              "  'height',\n",
              "  'length',\n",
              "  'weight',\n",
              "  'width'])"
            ]
          },
          "metadata": {
            "tags": []
          },
          "execution_count": 13
        }
      ]
    },
    {
      "cell_type": "code",
      "metadata": {
        "id": "lxMs-jRVBBaY",
        "colab_type": "code",
        "colab": {}
      },
      "source": [
        "train_preprocessed_encoded  = [(vocab_sent[sent], length ,vocab_intent[entity])  for sent, length ,entity in train_preprocessed ]\n",
        "valid  = [(vocab_sent[sent], length ,vocab_intent[entity])  for sent, length ,entity in valid_preprocessed ]"
      ],
      "execution_count": 0,
      "outputs": []
    },
    {
      "cell_type": "code",
      "metadata": {
        "id": "huQE5dXMBBaf",
        "colab_type": "code",
        "colab": {}
      },
      "source": [
        "train, test = nlp.data.train_valid_split(train_preprocessed_encoded, valid_ratio=0.1)"
      ],
      "execution_count": 0,
      "outputs": []
    },
    {
      "cell_type": "code",
      "metadata": {
        "id": "GrvFaVwCBBal",
        "colab_type": "code",
        "colab": {}
      },
      "source": [
        "nbatch = 30\n",
        "batchify_fn = nlp.data.batchify.Tuple(nlp.data.batchify.Stack(),\n",
        "                                      nlp.data.batchify.Stack('float32'),\n",
        "                                      nlp.data.batchify.Stack())\n",
        "\n",
        "train_dataloader  = gluon.data.DataLoader(train, batch_size=nbatch, batchify_fn=batchify_fn, shuffle=True)\n",
        "test_dataloader  = gluon.data.DataLoader(test, batch_size=nbatch, batchify_fn=batchify_fn, shuffle=True)\n",
        "valid_dataloader  = gluon.data.DataLoader(valid, batch_size=nbatch, batchify_fn=batchify_fn, shuffle=True)"
      ],
      "execution_count": 0,
      "outputs": []
    },
    {
      "cell_type": "markdown",
      "metadata": {
        "id": "DGsOoAObBBar",
        "colab_type": "text"
      },
      "source": [
        "#### 모델링 "
      ]
    },
    {
      "cell_type": "code",
      "metadata": {
        "id": "kfyEnrV7BBau",
        "colab_type": "code",
        "colab": {}
      },
      "source": [
        "class IntentClassification(gluon.HybridBlock):\n",
        "    def __init__(self, vocab_size, vocab_out_size, num_embed, seq_len, hidden_size, **kwargs):\n",
        "        super(IntentClassification, self).__init__(**kwargs)\n",
        "        self.seq_len = seq_len\n",
        "        self.hidden_size = hidden_size \n",
        "        self.vocab_out_size = vocab_out_size\n",
        "        with self.name_scope():\n",
        "            self.embed = nn.Embedding(input_dim=vocab_size, output_dim=num_embed)\n",
        "            self.bigru = rnn.GRU(self.hidden_size, dropout=0.2, bidirectional=True)\n",
        "            self.dense_prev = nn.Dense(10, flatten=False)\n",
        "            self.dense = nn.Dense(self.vocab_out_size)  \n",
        "            \n",
        "    def hybrid_forward(self, F ,inputs, length):\n",
        "        em_out = self.embed(inputs)\n",
        "        bigruout = self.bigru(em_out)\n",
        "        masked_encoded = F.SequenceMask(bigruout,\n",
        "                                        sequence_length=length,\n",
        "                                        use_sequence_length=True).transpose((1,0,2))\n",
        "        dense_out = self.dense_prev(masked_encoded)\n",
        "        outs = self.dense(dense_out) \n",
        "        return(outs)"
      ],
      "execution_count": 0,
      "outputs": []
    },
    {
      "cell_type": "code",
      "metadata": {
        "id": "3vndtQsyBBaz",
        "colab_type": "code",
        "colab": {}
      },
      "source": [
        "ctx = mx.gpu()\n",
        "\n",
        "model = IntentClassification(vocab_size = len(vocab_sent.idx_to_token), \n",
        "                             vocab_out_size=len(vocab_intent.idx_to_token), num_embed=50, seq_len=seq_len, hidden_size=30)"
      ],
      "execution_count": 0,
      "outputs": []
    },
    {
      "cell_type": "code",
      "metadata": {
        "id": "_-KdKk5ABBa5",
        "colab_type": "code",
        "colab": {}
      },
      "source": [
        "model.initialize(mx.initializer.Xavier(), ctx=ctx)"
      ],
      "execution_count": 0,
      "outputs": []
    },
    {
      "cell_type": "code",
      "metadata": {
        "id": "MizE5hD0BBbB",
        "colab_type": "code",
        "colab": {}
      },
      "source": [
        "trainer = gluon.Trainer(model.collect_params(),\"Adam\")\n",
        "loss = gluon.loss.SoftmaxCELoss() "
      ],
      "execution_count": 0,
      "outputs": []
    },
    {
      "cell_type": "code",
      "metadata": {
        "id": "0_7dByznBBbH",
        "colab_type": "code",
        "colab": {}
      },
      "source": [
        "model.hybridize()"
      ],
      "execution_count": 0,
      "outputs": []
    },
    {
      "cell_type": "code",
      "metadata": {
        "id": "UuPyjvu7BBbN",
        "colab_type": "code",
        "colab": {}
      },
      "source": [
        "def evaluate_accuracy(model, data_iter, ctx=ctx):\n",
        "    acc = mx.metric.Accuracy()\n",
        "    for i, (data, length, label) in enumerate(data_iter):\n",
        "        data = data.as_in_context(ctx)\n",
        "        label = label.as_in_context(ctx)\n",
        "        length = length.as_in_context(ctx)\n",
        "        output = model(data.T, length)\n",
        "        predictions = nd.argmax(output, axis=1)\n",
        "        acc.update(preds=predictions, labels=label)\n",
        "    return(acc.get()[1])"
      ],
      "execution_count": 0,
      "outputs": []
    },
    {
      "cell_type": "code",
      "metadata": {
        "id": "eohIThCRBBbU",
        "colab_type": "code",
        "colab": {}
      },
      "source": [
        "def calculate_loss(model, data_iter, loss_obj, ctx=ctx):\n",
        "    test_loss = []\n",
        "    for i, (te_data, te_length, te_label) in enumerate(data_iter):\n",
        "        te_data = te_data.as_in_context(ctx)\n",
        "        te_label = te_label.as_in_context(ctx)\n",
        "        te_length = te_length.as_in_context(ctx)\n",
        "        te_output = model(te_data.T, te_length)\n",
        "        loss_te = loss_obj(te_output, te_label)\n",
        "        curr_loss = nd.mean(loss_te).asscalar()\n",
        "        test_loss.append(curr_loss)\n",
        "    return(np.mean(test_loss))"
      ],
      "execution_count": 0,
      "outputs": []
    },
    {
      "cell_type": "code",
      "metadata": {
        "id": "EdBPiGpYBBbc",
        "colab_type": "code",
        "colab": {
          "base_uri": "https://localhost:8080/",
          "height": 1000
        },
        "outputId": "f42081fb-a7a7-428f-85d0-acd244b677cb"
      },
      "source": [
        "epochs = 100\n",
        "\n",
        "\n",
        "tot_test_loss = []\n",
        "tot_test_accu = []\n",
        "tot_train_loss = []\n",
        "tot_train_accu = []\n",
        "tot_valid_accu = [] \n",
        "for e in range(epochs):\n",
        "    #batch training \n",
        "    for i, (data, length, label) in enumerate(tqdm(train_dataloader)):\n",
        "        data = data.as_in_context(ctx)\n",
        "        label = label.as_in_context(ctx)\n",
        "        length = length.as_in_context(ctx)\n",
        "        with autograd.record():\n",
        "            output = model(data.T, length)\n",
        "            loss_ = loss(output, label)\n",
        "            loss_.backward()\n",
        "        trainer.step(data.shape[0])\n",
        "\n",
        "    #caculate test loss\n",
        "    if e % 10 == 0: \n",
        "        test_loss = calculate_loss(model, test_dataloader, loss_obj = loss, ctx=ctx) \n",
        "        train_loss = calculate_loss(model, train_dataloader, loss_obj = loss, ctx=ctx) \n",
        "        test_accu = evaluate_accuracy(model, test_dataloader,  ctx=ctx)\n",
        "        train_accu = evaluate_accuracy(model, train_dataloader,  ctx=ctx)\n",
        "        valid_accu = evaluate_accuracy(model, valid_dataloader,  ctx=ctx)\n",
        "\n",
        "        print(\"Epoch %s. Train Loss: %s, Test Loss : %s,\" \\\n",
        "        \" Test Accuracy : %s,\" \\\n",
        "        \" Train Accuracy : %s : Valid Accuracy : %s\" % (e, train_loss, test_loss, test_accu, train_accu, valid_accu))    \n",
        "        tot_test_loss.append(test_loss)\n",
        "        tot_train_loss.append(train_loss)\n",
        "        tot_test_accu.append(test_accu)\n",
        "        tot_train_accu.append(train_accu)\n",
        "        tot_valid_accu.append(valid_accu)"
      ],
      "execution_count": 24,
      "outputs": [
        {
          "output_type": "stream",
          "text": [
            "100%|██████████| 270/270 [00:01<00:00, 222.23it/s]\n",
            "  9%|▉         | 24/270 [00:00<00:01, 227.36it/s]"
          ],
          "name": "stderr"
        },
        {
          "output_type": "stream",
          "text": [
            "Epoch 0. Train Loss: 0.18470986, Test Loss : 0.18911381, Test Accuracy : 0.9455555555555556, Train Accuracy : 0.9514814814814815 : Valid Accuracy : 0.939\n"
          ],
          "name": "stdout"
        },
        {
          "output_type": "stream",
          "text": [
            "100%|██████████| 270/270 [00:01<00:00, 234.59it/s]\n",
            "100%|██████████| 270/270 [00:01<00:00, 245.90it/s]\n",
            "100%|██████████| 270/270 [00:01<00:00, 209.04it/s]\n",
            "100%|██████████| 270/270 [00:01<00:00, 236.16it/s]\n",
            "100%|██████████| 270/270 [00:01<00:00, 235.68it/s]\n",
            "100%|██████████| 270/270 [00:01<00:00, 230.73it/s]\n",
            "100%|██████████| 270/270 [00:01<00:00, 226.29it/s]\n",
            "100%|██████████| 270/270 [00:01<00:00, 243.93it/s]\n",
            "100%|██████████| 270/270 [00:01<00:00, 206.43it/s]\n",
            "100%|██████████| 270/270 [00:01<00:00, 208.71it/s]\n",
            "  9%|▊         | 23/270 [00:00<00:01, 228.15it/s]"
          ],
          "name": "stderr"
        },
        {
          "output_type": "stream",
          "text": [
            "Epoch 10. Train Loss: 0.0107786665, Test Loss : 0.03377559, Test Accuracy : 0.99, Train Accuracy : 0.9971604938271605 : Valid Accuracy : 0.989\n"
          ],
          "name": "stdout"
        },
        {
          "output_type": "stream",
          "text": [
            "100%|██████████| 270/270 [00:01<00:00, 233.27it/s]\n",
            "100%|██████████| 270/270 [00:01<00:00, 232.03it/s]\n",
            "100%|██████████| 270/270 [00:01<00:00, 241.32it/s]\n",
            "100%|██████████| 270/270 [00:01<00:00, 227.35it/s]\n",
            "100%|██████████| 270/270 [00:01<00:00, 226.52it/s]\n",
            "100%|██████████| 270/270 [00:01<00:00, 230.68it/s]\n",
            "100%|██████████| 270/270 [00:01<00:00, 227.91it/s]\n",
            "100%|██████████| 270/270 [00:01<00:00, 242.82it/s]\n",
            "100%|██████████| 270/270 [00:01<00:00, 227.59it/s]\n",
            "100%|██████████| 270/270 [00:01<00:00, 226.63it/s]\n",
            "  9%|▉         | 25/270 [00:00<00:01, 241.38it/s]"
          ],
          "name": "stderr"
        },
        {
          "output_type": "stream",
          "text": [
            "Epoch 20. Train Loss: 6.623845e-05, Test Loss : 0.022001153, Test Accuracy : 0.9933333333333333, Train Accuracy : 1.0 : Valid Accuracy : 0.995\n"
          ],
          "name": "stdout"
        },
        {
          "output_type": "stream",
          "text": [
            "100%|██████████| 270/270 [00:01<00:00, 213.77it/s]\n",
            "100%|██████████| 270/270 [00:01<00:00, 237.85it/s]\n",
            "100%|██████████| 270/270 [00:01<00:00, 230.91it/s]\n",
            "100%|██████████| 270/270 [00:01<00:00, 235.98it/s]\n",
            "100%|██████████| 270/270 [00:01<00:00, 235.30it/s]\n",
            "100%|██████████| 270/270 [00:01<00:00, 243.00it/s]\n",
            "100%|██████████| 270/270 [00:01<00:00, 237.30it/s]\n",
            "100%|██████████| 270/270 [00:01<00:00, 226.72it/s]\n",
            "100%|██████████| 270/270 [00:01<00:00, 240.38it/s]\n",
            "100%|██████████| 270/270 [00:01<00:00, 231.97it/s]\n",
            "  9%|▉         | 25/270 [00:00<00:01, 242.76it/s]"
          ],
          "name": "stderr"
        },
        {
          "output_type": "stream",
          "text": [
            "Epoch 30. Train Loss: 1.3015229e-05, Test Loss : 0.029010795, Test Accuracy : 0.9933333333333333, Train Accuracy : 1.0 : Valid Accuracy : 0.994\n"
          ],
          "name": "stdout"
        },
        {
          "output_type": "stream",
          "text": [
            "100%|██████████| 270/270 [00:01<00:00, 226.23it/s]\n",
            "100%|██████████| 270/270 [00:01<00:00, 228.21it/s]\n",
            "100%|██████████| 270/270 [00:01<00:00, 225.57it/s]\n",
            "100%|██████████| 270/270 [00:01<00:00, 230.60it/s]\n",
            "100%|██████████| 270/270 [00:01<00:00, 245.43it/s]\n",
            "100%|██████████| 270/270 [00:01<00:00, 241.21it/s]\n",
            "100%|██████████| 270/270 [00:01<00:00, 222.03it/s]\n",
            "100%|██████████| 270/270 [00:01<00:00, 231.73it/s]\n",
            "100%|██████████| 270/270 [00:01<00:00, 245.55it/s]\n",
            "100%|██████████| 270/270 [00:01<00:00, 238.74it/s]\n",
            " 10%|▉         | 26/270 [00:00<00:00, 254.18it/s]"
          ],
          "name": "stderr"
        },
        {
          "output_type": "stream",
          "text": [
            "Epoch 40. Train Loss: 2.8318507e-06, Test Loss : 0.036456905, Test Accuracy : 0.9911111111111112, Train Accuracy : 1.0 : Valid Accuracy : 0.992\n"
          ],
          "name": "stdout"
        },
        {
          "output_type": "stream",
          "text": [
            "100%|██████████| 270/270 [00:01<00:00, 222.40it/s]\n",
            "100%|██████████| 270/270 [00:01<00:00, 242.70it/s]\n",
            "100%|██████████| 270/270 [00:01<00:00, 234.89it/s]\n",
            "100%|██████████| 270/270 [00:01<00:00, 234.75it/s]\n",
            "100%|██████████| 270/270 [00:01<00:00, 240.13it/s]\n",
            "100%|██████████| 270/270 [00:01<00:00, 247.74it/s]\n",
            "100%|██████████| 270/270 [00:01<00:00, 241.33it/s]\n",
            "100%|██████████| 270/270 [00:01<00:00, 232.07it/s]\n",
            "100%|██████████| 270/270 [00:01<00:00, 225.22it/s]\n",
            "100%|██████████| 270/270 [00:01<00:00, 232.54it/s]\n",
            "  8%|▊         | 22/270 [00:00<00:01, 218.93it/s]"
          ],
          "name": "stderr"
        },
        {
          "output_type": "stream",
          "text": [
            "Epoch 50. Train Loss: 6.434988e-07, Test Loss : 0.041608997, Test Accuracy : 0.9911111111111112, Train Accuracy : 1.0 : Valid Accuracy : 0.992\n"
          ],
          "name": "stdout"
        },
        {
          "output_type": "stream",
          "text": [
            "100%|██████████| 270/270 [00:01<00:00, 223.49it/s]\n",
            "100%|██████████| 270/270 [00:01<00:00, 230.21it/s]\n",
            "100%|██████████| 270/270 [00:01<00:00, 245.84it/s]\n",
            "100%|██████████| 270/270 [00:01<00:00, 224.68it/s]\n",
            "100%|██████████| 270/270 [00:01<00:00, 219.22it/s]\n",
            "100%|██████████| 270/270 [00:01<00:00, 204.98it/s]\n",
            "100%|██████████| 270/270 [00:01<00:00, 248.60it/s]\n",
            "100%|██████████| 270/270 [00:01<00:00, 229.96it/s]\n",
            "100%|██████████| 270/270 [00:01<00:00, 223.54it/s]\n",
            "100%|██████████| 270/270 [00:01<00:00, 232.01it/s]\n",
            "  9%|▉         | 24/270 [00:00<00:01, 237.49it/s]"
          ],
          "name": "stderr"
        },
        {
          "output_type": "stream",
          "text": [
            "Epoch 60. Train Loss: 1.4549369e-07, Test Loss : 0.051583666, Test Accuracy : 0.9911111111111112, Train Accuracy : 1.0 : Valid Accuracy : 0.992\n"
          ],
          "name": "stdout"
        },
        {
          "output_type": "stream",
          "text": [
            "100%|██████████| 270/270 [00:01<00:00, 237.42it/s]\n",
            "100%|██████████| 270/270 [00:01<00:00, 219.72it/s]\n",
            "100%|██████████| 270/270 [00:01<00:00, 221.40it/s]\n",
            "100%|██████████| 270/270 [00:01<00:00, 229.97it/s]\n",
            "100%|██████████| 270/270 [00:01<00:00, 200.17it/s]\n",
            "100%|██████████| 270/270 [00:01<00:00, 206.36it/s]\n",
            "100%|██████████| 270/270 [00:01<00:00, 224.62it/s]\n",
            "100%|██████████| 270/270 [00:01<00:00, 224.25it/s]\n",
            "100%|██████████| 270/270 [00:01<00:00, 238.12it/s]\n",
            "100%|██████████| 270/270 [00:01<00:00, 236.44it/s]\n",
            " 10%|█         | 27/270 [00:00<00:00, 256.06it/s]"
          ],
          "name": "stderr"
        },
        {
          "output_type": "stream",
          "text": [
            "Epoch 70. Train Loss: 9.1341244e-05, Test Loss : 0.021057624, Test Accuracy : 0.9944444444444445, Train Accuracy : 1.0 : Valid Accuracy : 0.995\n"
          ],
          "name": "stdout"
        },
        {
          "output_type": "stream",
          "text": [
            "100%|██████████| 270/270 [00:01<00:00, 231.05it/s]\n",
            "100%|██████████| 270/270 [00:01<00:00, 232.42it/s]\n",
            "100%|██████████| 270/270 [00:01<00:00, 220.26it/s]\n",
            "100%|██████████| 270/270 [00:01<00:00, 237.14it/s]\n",
            "100%|██████████| 270/270 [00:01<00:00, 221.74it/s]\n",
            "100%|██████████| 270/270 [00:01<00:00, 227.62it/s]\n",
            "100%|██████████| 270/270 [00:01<00:00, 237.04it/s]\n",
            "100%|██████████| 270/270 [00:01<00:00, 231.40it/s]\n",
            "100%|██████████| 270/270 [00:01<00:00, 224.03it/s]\n",
            "100%|██████████| 270/270 [00:01<00:00, 228.41it/s]\n",
            "  8%|▊         | 22/270 [00:00<00:01, 213.39it/s]"
          ],
          "name": "stderr"
        },
        {
          "output_type": "stream",
          "text": [
            "Epoch 80. Train Loss: 1.5107484e-05, Test Loss : 0.020093959, Test Accuracy : 0.9955555555555555, Train Accuracy : 1.0 : Valid Accuracy : 0.995\n"
          ],
          "name": "stdout"
        },
        {
          "output_type": "stream",
          "text": [
            "100%|██████████| 270/270 [00:01<00:00, 246.41it/s]\n",
            "100%|██████████| 270/270 [00:01<00:00, 239.37it/s]\n",
            "100%|██████████| 270/270 [00:01<00:00, 235.47it/s]\n",
            "100%|██████████| 270/270 [00:01<00:00, 236.65it/s]\n",
            "100%|██████████| 270/270 [00:01<00:00, 243.75it/s]\n",
            "100%|██████████| 270/270 [00:01<00:00, 227.64it/s]\n",
            "100%|██████████| 270/270 [00:01<00:00, 245.69it/s]\n",
            "100%|██████████| 270/270 [00:01<00:00, 240.43it/s]\n",
            "100%|██████████| 270/270 [00:01<00:00, 235.14it/s]\n",
            "100%|██████████| 270/270 [00:01<00:00, 251.99it/s]\n",
            " 10%|█         | 28/270 [00:00<00:00, 270.58it/s]"
          ],
          "name": "stderr"
        },
        {
          "output_type": "stream",
          "text": [
            "Epoch 90. Train Loss: 4.6649916e-06, Test Loss : 0.019216476, Test Accuracy : 0.9944444444444445, Train Accuracy : 1.0 : Valid Accuracy : 0.996\n"
          ],
          "name": "stdout"
        },
        {
          "output_type": "stream",
          "text": [
            "100%|██████████| 270/270 [00:01<00:00, 231.63it/s]\n",
            "100%|██████████| 270/270 [00:01<00:00, 235.63it/s]\n",
            "100%|██████████| 270/270 [00:01<00:00, 246.76it/s]\n",
            "100%|██████████| 270/270 [00:01<00:00, 234.70it/s]\n",
            "100%|██████████| 270/270 [00:01<00:00, 228.10it/s]\n",
            "100%|██████████| 270/270 [00:01<00:00, 233.21it/s]\n",
            "100%|██████████| 270/270 [00:01<00:00, 241.09it/s]\n",
            "100%|██████████| 270/270 [00:01<00:00, 238.56it/s]\n",
            "100%|██████████| 270/270 [00:01<00:00, 239.69it/s]\n"
          ],
          "name": "stderr"
        }
      ]
    },
    {
      "cell_type": "code",
      "metadata": {
        "id": "9nx-k3BRHvPo",
        "colab_type": "code",
        "colab": {}
      },
      "source": [
        "model.collect_params().reset_ctx(mx.cpu())"
      ],
      "execution_count": 0,
      "outputs": []
    },
    {
      "cell_type": "code",
      "metadata": {
        "id": "iIyNj4FFBBb_",
        "colab_type": "code",
        "colab": {}
      },
      "source": [
        "def get_intent(sent):\n",
        "    sent_len = len(sent)\n",
        "    coded_sent = vocab_sent[length_clip(list(sent))]\n",
        "    co = nd.array(coded_sent).expand_dims(axis=1)\n",
        "    ret_code = model(co, nd.array([sent_len,]))\n",
        "    ret_seq = vocab_intent.to_tokens(ret_code.argmax(axis=1).asnumpy().astype('int').tolist())\n",
        "    return(''.join(ret_seq))"
      ],
      "execution_count": 0,
      "outputs": []
    },
    {
      "cell_type": "code",
      "metadata": {
        "id": "chPfI_HNHHva",
        "colab_type": "code",
        "colab": {
          "base_uri": "https://localhost:8080/",
          "height": 36
        },
        "outputId": "3b1e8269-d47f-4ff7-92b5-340e2f96ba2e"
      },
      "source": [
        "get_intent(\"파이콘이 뭔지 알려줘?\")"
      ],
      "execution_count": 31,
      "outputs": [
        {
          "output_type": "execute_result",
          "data": {
            "text/plain": [
              "'definition'"
            ]
          },
          "metadata": {
            "tags": []
          },
          "execution_count": 31
        }
      ]
    },
    {
      "cell_type": "markdown",
      "metadata": {
        "id": "jwhz3EetBBcE",
        "colab_type": "text"
      },
      "source": [
        "### TODO\n",
        "- 개별 Intent와 Entity 모형을 하나의 모형으로 구축해본다. (Multi-Task Learning) \n",
        "  - 분류 성능이 좋아지는가? 학습 수렴 속도는 어떠한가?"
      ]
    }
  ]
}